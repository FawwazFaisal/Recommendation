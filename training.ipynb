{
 "cells": [
  {
   "cell_type": "code",
   "execution_count": 1,
   "metadata": {},
   "outputs": [],
   "source": [
    "import pandas as pd\n",
    "import numpy as np"
   ]
  },
  {
   "cell_type": "code",
   "execution_count": 2,
   "metadata": {},
   "outputs": [],
   "source": [
    "cols= [\"dmc_name\",\"complaint_type\",\"cost\",\"garbage_truck\",\"road_roller\",\"wheel_loader\",\"crane\",\"road_grader\",\"suction_truck\",\"lorry\",\"wood_chipper\",\"total_distance\",\"total_vehicles\"]"
   ]
  },
  {
   "cell_type": "code",
   "execution_count": 3,
   "metadata": {},
   "outputs": [],
   "source": [
    "resAlloc = pd.read_csv(\"ALLDMC.csv\",names=cols)"
   ]
  },
  {
   "cell_type": "code",
   "execution_count": 4,
   "metadata": {},
   "outputs": [],
   "source": [
    "def recommend(dmc_name,complaint_type,distance):\n",
    "    dmc_name = float(dmc_name)\n",
    "    complaint_type = float(complaint_type)\n",
    "    distance = int(distance)\n",
    "    mydict = {}\n",
    "    rcmnd = resAlloc[(resAlloc[\"dmc_name\"]==(dmc_name)) &\n",
    "                     (resAlloc[\"complaint_type\"]== (complaint_type)) & \n",
    "                     (resAlloc[\"total_distance\"]==distance*2)\n",
    "                     ].sort_values([\"cost\"],ascending=True).head(1).values.flatten()\n",
    "    for i in range(2,(resAlloc.shape[1]-1)):\n",
    "        if rcmnd[i] > 0.0:\n",
    "            mydict[resAlloc.columns[i]] = rcmnd[i]\n",
    "    \n",
    "    return mydict\n",
    "\n",
    "    "
   ]
  },
  {
   "cell_type": "code",
   "execution_count": 5,
   "metadata": {},
   "outputs": [],
   "source": [
    "mydict  = recommend(\"2\",\"2\",\"4\")"
   ]
  },
  {
   "cell_type": "code",
   "execution_count": 6,
   "metadata": {},
   "outputs": [
    {
     "data": {
      "text/plain": [
       "{'cost': 800.4,\n",
       " 'road_roller': 3.0,\n",
       " 'wheel_loader': 1.0,\n",
       " 'crane': 2.0,\n",
       " 'road_grader': 1.0,\n",
       " 'lorry': 1.0,\n",
       " 'total_distance': 8.0}"
      ]
     },
     "execution_count": 6,
     "metadata": {},
     "output_type": "execute_result"
    }
   ],
   "source": [
    "mydict"
   ]
  },
  {
   "cell_type": "code",
   "execution_count": null,
   "metadata": {},
   "outputs": [],
   "source": []
  }
 ],
 "metadata": {
  "kernelspec": {
   "display_name": "Python 3",
   "language": "python",
   "name": "python3"
  },
  "language_info": {
   "codemirror_mode": {
    "name": "ipython",
    "version": 3
   },
   "file_extension": ".py",
   "mimetype": "text/x-python",
   "name": "python",
   "nbconvert_exporter": "python",
   "pygments_lexer": "ipython3",
   "version": "3.6.10"
  }
 },
 "nbformat": 4,
 "nbformat_minor": 4
}
